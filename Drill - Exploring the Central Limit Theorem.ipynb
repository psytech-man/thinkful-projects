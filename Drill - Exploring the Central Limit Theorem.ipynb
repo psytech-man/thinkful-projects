{
 "cells": [
  {
   "cell_type": "code",
   "execution_count": 1,
   "metadata": {
    "collapsed": true
   },
   "outputs": [],
   "source": [
    "import numpy as np\n",
    "import pandas as pd\n",
    "import matplotlib.pyplot as plt\n",
    "import scipy.stats \n",
    "#matplotlib inline"
   ]
  },
  {
   "cell_type": "code",
   "execution_count": 2,
   "metadata": {},
   "outputs": [
    {
     "name": "stdout",
     "output_type": "stream",
     "text": [
      "The mean of sample 1 is 2.05 and the std is 1.2114041439585717\n",
      "The mean of sample 2 is 5.0 and the std is 1.8708286933869707\n"
     ]
    }
   ],
   "source": [
    "pop1 = np.random.binomial(10, 0.2, 10000)\n",
    "pop2 = np.random.binomial(10,0.5, 10000) \n",
    "sample1 = np.random.choice(pop1, 100, replace=True)\n",
    "sample2 = np.random.choice(pop2, 100, replace=True)\n",
    "mean1 = sample1.mean()\n",
    "mean2 = sample2.mean()\n",
    "std1 = sample1.std()\n",
    "std2 = sample2.std()\n",
    "print(\"The mean of sample 1 is {} and the std is {}\".format(mean1, std1))\n",
    "print(\"The mean of sample 2 is {} and the std is {}\".format(mean2, std2))"
   ]
  },
  {
   "cell_type": "code",
   "execution_count": 15,
   "metadata": {},
   "outputs": [
    {
     "data": {
      "image/png": "[encoded data removed]",
      "text/plain": [
       "<matplotlib.figure.Figure at 0x11866f710>"
      ]
     },
     "metadata": {},
     "output_type": "display_data"
    }
   ],
   "source": [
    "plt.figure(figsize=(15, 5))\n",
    "plt.subplot(1, 2, 1)\n",
    "plt.hist(sample1)\n",
    "plt.axvline(mean1, color='r', linestyle='solid', linewidth=2)\n",
    "plt.axvline(mean1 + std1, color='r', linestyle='dashed', linewidth=2)\n",
    "plt.axvline(mean1 - std1, color='r', linestyle='dashed', linewidth=2)\n",
    "plt.subplot(1, 2, 2)\n",
    "plt.hist(sample2)\n",
    "plt.axvline(mean2, color='r', linestyle='solid', linewidth=2)\n",
    "plt.axvline(mean2 + std2, color='r', linestyle='dashed', linewidth=2)\n",
    "plt.axvline(mean2 - std2, color='r', linestyle='dashed', linewidth=2)\n",
    "plt.show()"
   ]
  },
  {
   "cell_type": "markdown",
   "metadata": {},
   "source": [
    "# Task 1\n",
    "\n",
    "__My First Prediction...__\n",
    "\n",
    "When the sample sizes are increased from 100 to 1000, the sample means will get closer to the population means and the standard deviations will get smaller."
   ]
  },
  {
   "cell_type": "code",
   "execution_count": 4,
   "metadata": {},
   "outputs": [
    {
     "name": "stdout",
     "output_type": "stream",
     "text": [
      "The mean of sample 1b is 2.068 and the std is 1.2455424521067116\n",
      "The mean of sample 2b is 4.988 and the std is 1.5993298596599765\n"
     ]
    }
   ],
   "source": [
    "sample1b = np.random.choice(pop1, 1000, replace=True)\n",
    "sample2b = np.random.choice(pop2, 1000, replace=True)\n",
    "mean1b = sample1b.mean()\n",
    "mean2b = sample2b.mean()\n",
    "std1b = sample1b.std()\n",
    "std2b = sample2b.std()\n",
    "print(\"The mean of sample 1b is {} and the std is {}\".format(mean1b, std1b))\n",
    "print(\"The mean of sample 2b is {} and the std is {}\".format(mean2b, std2b))"
   ]
  },
  {
   "cell_type": "code",
   "execution_count": 16,
   "metadata": {},
   "outputs": [
    {
     "data": {
      "image/png": "[encoded data removed]",
      "text/plain": [
       "<matplotlib.figure.Figure at 0x118974400>"
      ]
     },
     "metadata": {},
     "output_type": "display_data"
    }
   ],
   "source": [
    "plt.figure(figsize=(15, 5))\n",
    "plt.subplot(1, 2, 1)\n",
    "plt.hist(sample1b)\n",
    "plt.axvline(mean1b, color='r', linestyle='solid', linewidth=2)\n",
    "plt.axvline(mean1b + std1b, color='r', linestyle='dashed', linewidth=2)\n",
    "plt.axvline(mean1b - std1b, color='r', linestyle='dashed', linewidth=2)\n",
    "plt.subplot(1, 2, 2)\n",
    "plt.hist(sample2b)\n",
    "plt.axvline(mean2b, color='r', linestyle='solid', linewidth=2)\n",
    "plt.axvline(mean2b + std2b, color='r', linestyle='dashed', linewidth=2)\n",
    "plt.axvline(mean2b - std2b, color='r', linestyle='dashed', linewidth=2)\n",
    "plt.show()"
   ]
  },
  {
   "cell_type": "markdown",
   "metadata": {},
   "source": [
    "__...What Actually Happened__\n",
    "\n",
    "The sample means got very slightly farther away from the population means and one std stayed basically the same, while the other got slightly smaller. \n",
    "\n",
    "__My Second Prediction...__\n",
    "\n",
    "When the sample sizes are decreased from 100 to 20, the samples means will gets farther away from the population means and the standard deviations will get bigger."
   ]
  },
  {
   "cell_type": "code",
   "execution_count": 5,
   "metadata": {},
   "outputs": [
    {
     "name": "stdout",
     "output_type": "stream",
     "text": [
      "The mean of sample 1c is 1.45 and the std is 1.16081867662439\n",
      "The mean of sample 2c is 5.35 and the std is 1.4585952145814822\n"
     ]
    }
   ],
   "source": [
    "sample1c = np.random.choice(pop1, 20, replace=True)\n",
    "sample2c = np.random.choice(pop2, 20, replace=True)\n",
    "mean1c = sample1c.mean()\n",
    "mean2c = sample2c.mean()\n",
    "std1c = sample1c.std()\n",
    "std2c = sample2c.std()\n",
    "print(\"The mean of sample 1c is {} and the std is {}\".format(mean1c, std1c))\n",
    "print(\"The mean of sample 2c is {} and the std is {}\".format(mean2c, std2c))"
   ]
  },
  {
   "cell_type": "code",
   "execution_count": 17,
   "metadata": {},
   "outputs": [
    {
     "data": {
      "image/png": "[encoded data removed]",
      "text/plain": [
       "<matplotlib.figure.Figure at 0x1181e8f98>"
      ]
     },
     "metadata": {},
     "output_type": "display_data"
    }
   ],
   "source": [
    "plt.figure(figsize=(15, 5))\n",
    "plt.subplot(1, 2, 1)\n",
    "plt.hist(sample1c)\n",
    "plt.axvline(mean1c, color='r', linestyle='solid', linewidth=2)\n",
    "plt.axvline(mean1c + std1c, color='r', linestyle='dashed', linewidth=2)\n",
    "plt.axvline(mean1c - std1c, color='r', linestyle='dashed', linewidth=2)\n",
    "plt.subplot(1, 2, 2)\n",
    "plt.hist(sample2c)\n",
    "plt.axvline(mean2c, color='r', linestyle='solid', linewidth=2)\n",
    "plt.axvline(mean2c + std2c, color='r', linestyle='dashed', linewidth=2)\n",
    "plt.axvline(mean2c - std2c, color='r', linestyle='dashed', linewidth=2)\n",
    "plt.show()"
   ]
  },
  {
   "cell_type": "markdown",
   "metadata": {},
   "source": [
    "__...What Actually Happened__\n",
    "\n",
    "The sample means did in fact get farther away from the population means, but both the standard deviations actually got slightly smaller. "
   ]
  },
  {
   "cell_type": "markdown",
   "metadata": {},
   "source": [
    "# Task 2"
   ]
  },
  {
   "cell_type": "code",
   "execution_count": 6,
   "metadata": {},
   "outputs": [
    {
     "name": "stdout",
     "output_type": "stream",
     "text": [
      "Ttest_indResult(statistic=8.8692384107216053, pvalue=4.4048538365367148e-16)\n"
     ]
    }
   ],
   "source": [
    "pop1 = np.random.binomial(10, 0.3, 10000)\n",
    "sample1d = np.random.choice(pop1, 100, replace=True)\n",
    "sample2d = np.random.choice(pop2, 100, replace=True)\n",
    "from scipy.stats import ttest_ind\n",
    "print(ttest_ind(sample2d, sample1d, equal_var=False))"
   ]
  },
  {
   "cell_type": "markdown",
   "metadata": {},
   "source": [
    "__My First Prediction...__\n",
    "\n",
    "When the parameter _p_ of population 1 is increased from .3 to .4, the two samples will become more similar and the difference in means will become smaller. This will lead to a smaller _t value_ from the t-test because the difference in means will get smaller, while the standard error of the differences will remain relatively constant. With less confidence, I predict that the p-value will stay relatively constant as well, given the assumption that the collective variance will remain relatively constant."
   ]
  },
  {
   "cell_type": "code",
   "execution_count": 7,
   "metadata": {},
   "outputs": [
    {
     "name": "stdout",
     "output_type": "stream",
     "text": [
      "Ttest_indResult(statistic=4.6942700572552365, pvalue=4.990378342879914e-06)\n"
     ]
    }
   ],
   "source": [
    "pop1 = np.random.binomial(10, 0.4, 10000)\n",
    "sample1e = np.random.choice(pop1, 100, replace=True)\n",
    "from scipy.stats import ttest_ind\n",
    "print(ttest_ind(sample2d, sample1e, equal_var=False))"
   ]
  },
  {
   "cell_type": "markdown",
   "metadata": {},
   "source": [
    "__...What Actually Happened__\n",
    "\n",
    "The _t-value_ did in fact get smaller and the _p-value_ actually got much bigger. I believe the reason for the _t-value_ decrease was given correctly in my prediction. The _p-value_ decrease means that the confidence with which we can assert the difference in the means just got much smaller. In other words, we are less confident that difference in means between the samples is real. I think this is because smaller _t-values_ are correlated with bigger _p-values_, but I am honestly not sure that is the real reason."
   ]
  },
  {
   "cell_type": "markdown",
   "metadata": {},
   "source": [
    "# Task 3\n",
    "\n",
    "__My First Prediction...__\n",
    "\n",
    "When I change the populations from binomial distributions to pareto distributions, the sample means will not have any meaningful relationship to the population means, while the standard deviations of the samples will be much larger than that of the populations."
   ]
  },
  {
   "cell_type": "code",
   "execution_count": 20,
   "metadata": {},
   "outputs": [
    {
     "name": "stdout",
     "output_type": "stream",
     "text": [
      "The mean of population 1 is 0.11113401255235754 and the std is 0.1258335524546633\n",
      "The mean of sample 1 is 0.08729259662451413 and the std is 0.10620207267296584\n",
      "The mean of population 2 is 0.11274878349037176 and the std is 0.12667987861777275\n",
      "The mean of sample 2 is 0.11484127511336373 and the std is 0.10912409029592456\n"
     ]
    }
   ],
   "source": [
    "pop1 = np.random.pareto(10, 10000)\n",
    "pop2 = np.random.pareto(10, 10000) \n",
    "sample1 = np.random.choice(pop1, 100, replace=True)\n",
    "sample2 = np.random.choice(pop2, 100, replace=True)\n",
    "mean1 = sample1.mean()\n",
    "mean2 = sample2.mean()\n",
    "std1 = sample1.std()\n",
    "std2 = sample2.std()\n",
    "print(\"The mean of population 1 is {} and the std is {}\".format(pop1.mean(), pop1.std()))\n",
    "print(\"The mean of sample 1 is {} and the std is {}\".format(mean1, std1))\n",
    "print(\"The mean of population 2 is {} and the std is {}\".format(pop2.mean(), pop2.std()))\n",
    "print(\"The mean of sample 2 is {} and the std is {}\".format(mean2, std2))"
   ]
  },
  {
   "cell_type": "markdown",
   "metadata": {},
   "source": [
    "__...What Actually Happened__\n",
    "\n",
    "The sample means did not accurately represent the population means, although the differences between them were not as big as I predicted. Sample 2 actually did have a very similar mean to population 2, but when this is weighed in relation to the difference between sample 1 and population 1, it appears to be a product of random luck. The standard deviations for the samples actually got significantly smaller, contrary to what I predicted. I think this is because there is so much difference in value between the maximum and minimum points in a pareto distribution that a small sample that misses these edges will not accurately capture the varience.  "
   ]
  }
 ],
 "metadata": {
  "kernelspec": {
   "display_name": "Python 3",
   "language": "python",
   "name": "python3"
  },
  "language_info": {
   "codemirror_mode": {
    "name": "ipython",
    "version": 3
   },
   "file_extension": ".py",
   "mimetype": "text/x-python",
   "name": "python",
   "nbconvert_exporter": "python",
   "pygments_lexer": "ipython3",
   "version": "3.6.1"
  }
 },
 "nbformat": 4,
 "nbformat_minor": 2
}
